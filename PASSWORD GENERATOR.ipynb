{
 "cells": [
  {
   "cell_type": "code",
   "execution_count": 2,
   "id": "b881cd2b",
   "metadata": {},
   "outputs": [
    {
     "name": "stdout",
     "output_type": "stream",
     "text": [
      "Welcome to the PyPassword Generator !\n",
      "How many letters would you like in your password?\n",
      "2\n",
      "How many symbols would you like\n",
      "3\n",
      "How many numbers would you like\n",
      "2\n"
     ]
    },
    {
     "data": {
      "text/plain": [
       "'zX($#00'"
      ]
     },
     "execution_count": 2,
     "metadata": {},
     "output_type": "execute_result"
    }
   ],
   "source": [
    "# password generated\n",
    "#easy level\n",
    "import random\n",
    "letters = ['a','b','c','d','e','f','g','h','i','j','k','l','m','n','o','p','q','r','s','t','u','v','w','x','y','z', 'A','B','C','D','E','F','G','H','I','J','K','L','M','N','O','P','Q','R','S','T','U','V','W','X','Y','Z']\n",
    "numbers = [\"0\",\"1\",\"2\",\"3\",\"4\",\"5\",\"6\",\"7\",\"8\",\"9\"]\n",
    "symbols = [\"!\",\"@\",\"#\",\"$\",\"%\",\"^\",\"&\",\"*\",\"(\",\")\",\"-\",\"+\"]\n",
    "\n",
    "print(\"Welcome to the PyPassword Generator !\")\n",
    "nr_letters = int(input(\"How many letters would you like in your password?\\n\"))\n",
    "nr_symbols = int(input(\"How many symbols would you like\\n\"))\n",
    "nr_numbers = int(input(\"How many numbers would you like\\n\"))\n",
    "password = \"\"\n",
    "for i in range(0,nr_letters):\n",
    "    password += random.choice(letters)\n",
    "for j in range(0,nr_symbols):\n",
    "    password += random.choice(symbols)\n",
    "for k in range(0,nr_numbers):\n",
    "    password += random.choice(numbers)\n",
    "password    \n",
    "    \n"
   ]
  },
  {
   "cell_type": "code",
   "execution_count": 3,
   "id": "d1e514b3",
   "metadata": {},
   "outputs": [
    {
     "name": "stdout",
     "output_type": "stream",
     "text": [
      "Welcome to the PyPassword Generator !\n",
      "How many letters would you like in your password?\n",
      "3\n",
      "How many symbols would you like\n",
      "3\n",
      "How many numbers would you like\n",
      "3\n"
     ]
    },
    {
     "data": {
      "text/plain": [
       "'9(--M!5!4'"
      ]
     },
     "execution_count": 3,
     "metadata": {},
     "output_type": "execute_result"
    }
   ],
   "source": [
    "#password Generator\n",
    "#Hard level\n",
    "\n",
    "import random\n",
    "\n",
    "letters = ['a','b','c','d','e','f','g','h','i','j','k','l','m','n','o','p','q','r','s','t','u','v','w','x','y','z', 'A','B','C','D','E','F','G','H','I','J','K','L','M','N','O','P','Q','R','S','T','U','V','W','X','Y','Z']\n",
    "numbers = [\"0\",\"1\",\"2\",\"3\",\"4\",\"5\",\"6\",\"7\",\"8\",\"9\"]\n",
    "symbols = [\"!\",\"@\",\"#\",\"$\",\"%\",\"^\",\"&\",\"*\",\"(\",\")\",\"-\",\"+\"]\n",
    "\n",
    "print(\"Welcome to the PyPassword Generator !\")\n",
    "nr_letters = int(input(\"How many letters would you like in your password?\\n\"))\n",
    "nr_symbols = int(input(\"How many symbols would you like\\n\"))\n",
    "nr_numbers = int(input(\"How many numbers would you like\\n\"))\n",
    "password_list = []\n",
    "for i in range(0,nr_letters):\n",
    "      password_list.append(random.choice(letters))\n",
    "for j in range(0,nr_symbols):\n",
    "    password_list.append(random.choice(symbols))\n",
    "for k in range(0,nr_numbers):\n",
    "    password_list.append(random.choice(numbers))\n",
    "password_list\n",
    "hard_password = ''\n",
    "for i in range(0,len(password_list)):\n",
    "    hard_password += random.choice(password_list)\n",
    "hard_password    \n",
    "    \n"
   ]
  },
  {
   "cell_type": "code",
   "execution_count": null,
   "id": "38b07a51",
   "metadata": {},
   "outputs": [],
   "source": []
  }
 ],
 "metadata": {
  "kernelspec": {
   "display_name": "Python 3 (ipykernel)",
   "language": "python",
   "name": "python3"
  },
  "language_info": {
   "codemirror_mode": {
    "name": "ipython",
    "version": 3
   },
   "file_extension": ".py",
   "mimetype": "text/x-python",
   "name": "python",
   "nbconvert_exporter": "python",
   "pygments_lexer": "ipython3",
   "version": "3.10.9"
  }
 },
 "nbformat": 4,
 "nbformat_minor": 5
}
