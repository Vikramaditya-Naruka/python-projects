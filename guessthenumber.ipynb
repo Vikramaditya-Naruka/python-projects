{
 "cells": [
  {
   "cell_type": "code",
   "execution_count": 1,
   "id": "fd734677",
   "metadata": {},
   "outputs": [
    {
     "name": "stdout",
     "output_type": "stream",
     "text": [
      "Welcome to the Number Guessing Game! \n",
      "I'm thinking of a number between 1 and 100.\n",
      "94\n",
      "Choose a difficulty . Type 'easy' or 'hard':hard\n",
      "you have 5 attempts to guess the number\n",
      "Make a Guess..5\n",
      "Too Low.\n",
      "you have 4 attempts to guess the number\n",
      "Make a Guess..6\n",
      "Too Low.\n",
      "you have 3 attempts to guess the number\n",
      "Make a Guess..7\n",
      "Too Low.\n",
      "you have 2 attempts to guess the number\n",
      "Make a Guess..8\n",
      "Too Low.\n",
      "you have 1 attempts to guess the number\n",
      "Make a Guess..8\n",
      "Too Low.\n",
      "You lose..\n"
     ]
    }
   ],
   "source": [
    "# Guess the number\n",
    "\n",
    "import random\n",
    "\n",
    "\n",
    "print(\"Welcome to the Number Guessing Game! \\nI'm thinking of a number between 1 and 100.\")\n",
    "number = random.randint(1,101)\n",
    "# print(number)\n",
    "choose = input(\"Choose a difficulty . Type 'easy' or 'hard':\")\n",
    "hard = 5\n",
    "easy = 10\n",
    "if choose == \"hard\":\n",
    "    for i in range(hard):\n",
    "        print(f\"you have {hard} attempts to guess the number\")\n",
    "        hard -= 1\n",
    "        n = int(input(\"Make a Guess..\"))\n",
    "        if n == number:\n",
    "            print(f\"You got it ! the answer was {n}\") \n",
    "        elif n < number:\n",
    "            print(\"Too Low.\")\n",
    "        elif n > number :\n",
    "            print(\"Too High.\")\n",
    "elif choose == \"easy\":\n",
    "    for i in range(easy):\n",
    "        print(f\"you have {easy} attempts to guess the number\")\n",
    "        easy -= 1\n",
    "        n = int(input(\"Make a Guess..\"))\n",
    "        if n == number:\n",
    "            print(f\"You got it ! the answer was {n}\") \n",
    "        elif n < number:\n",
    "            print(\"Too Low.\")\n",
    "        elif n > number :\n",
    "            print(\"Too High.\")\n",
    "        \n",
    "print(\"You lose..\")"
   ]
  },
  {
   "cell_type": "code",
   "execution_count": null,
   "id": "a1b49a88",
   "metadata": {},
   "outputs": [],
   "source": []
  }
 ],
 "metadata": {
  "kernelspec": {
   "display_name": "Python 3 (ipykernel)",
   "language": "python",
   "name": "python3"
  },
  "language_info": {
   "codemirror_mode": {
    "name": "ipython",
    "version": 3
   },
   "file_extension": ".py",
   "mimetype": "text/x-python",
   "name": "python",
   "nbconvert_exporter": "python",
   "pygments_lexer": "ipython3",
   "version": "3.10.9"
  }
 },
 "nbformat": 4,
 "nbformat_minor": 5
}
