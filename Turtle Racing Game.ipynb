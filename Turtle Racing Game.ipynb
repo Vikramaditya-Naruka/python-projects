{
 "cells": [
  {
   "cell_type": "code",
   "execution_count": null,
   "id": "a11b56dd",
   "metadata": {},
   "outputs": [
    {
     "name": "stdout",
     "output_type": "stream",
     "text": [
      "you've lost! The orange turtle is the winner!\n"
     ]
    }
   ],
   "source": [
    "from turtle import Turtle , Screen\n",
    "import random\n",
    "is_race_on = False\n",
    "screen = Screen()\n",
    "screen.setup(500,400)\n",
    "user_bet = screen.textinput(title=\"Make Your Bet\",prompt=\"Which turtle win the Race..?\")\n",
    "colors = [\"red\",\"orange\",\"yellow\",\"green\",\"blue\",\"purple\"]\n",
    "y_positions = [-70,-40,-10,20,50,80]\n",
    "all_turtles = []\n",
    "\n",
    "for turtle_index in range(0,6):\n",
    "\n",
    "    new_turtle = Turtle(shape=\"turtle\")\n",
    "    new_turtle.color(colors[turtle_index])\n",
    "    new_turtle.penup()\n",
    "    new_turtle.goto(x=-230, y= y_positions[turtle_index])\n",
    "    all_turtles.append(new_turtle)\n",
    "\n",
    "if user_bet:\n",
    "    is_race_on = True\n",
    "while is_race_on:\n",
    "    for turtle in all_turtles:\n",
    "        if turtle.xcor() > 230:\n",
    "            is_race_on = False\n",
    "            winning_color = turtle.pencolor()\n",
    "            if winning_color == user_bet:\n",
    "                print(f\"you've won! The {winning_color} turtle is the winner!\")\n",
    "            else:\n",
    "                print(f\"you've lost! The {winning_color} turtle is the winner!\")\n",
    "        rand_distance = random.randint(0,10)\n",
    "        turtle.forward(rand_distance)\n",
    "\n",
    "screen.exitonclick()"
   ]
  },
  {
   "cell_type": "code",
   "execution_count": null,
   "id": "caa92b32",
   "metadata": {},
   "outputs": [],
   "source": []
  }
 ],
 "metadata": {
  "kernelspec": {
   "display_name": "Python 3 (ipykernel)",
   "language": "python",
   "name": "python3"
  },
  "language_info": {
   "codemirror_mode": {
    "name": "ipython",
    "version": 3
   },
   "file_extension": ".py",
   "mimetype": "text/x-python",
   "name": "python",
   "nbconvert_exporter": "python",
   "pygments_lexer": "ipython3",
   "version": "3.10.9"
  }
 },
 "nbformat": 4,
 "nbformat_minor": 5
}
