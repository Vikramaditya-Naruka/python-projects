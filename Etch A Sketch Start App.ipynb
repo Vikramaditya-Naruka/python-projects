{
 "cells": [
  {
   "cell_type": "code",
   "execution_count": null,
   "id": "03a76944",
   "metadata": {},
   "outputs": [],
   "source": [
    "from turtle import Turtle , Screen\n",
    "\n",
    "tim  = Turtle()\n",
    "tim.shape(\"turtle\")\n",
    "tim.color(\"green\")\n",
    "screen = Screen()\n",
    "\n",
    "def move_forwards():\n",
    "    tim.forward(10)\n",
    "\n",
    "def move_backwards():\n",
    "    tim.backward(10)\n",
    "\n",
    "def move_left():\n",
    "    new_move = tim.heading()+10\n",
    "    tim.setheading(new_move)\n",
    "\n",
    "def move_right():\n",
    "    new_move = tim.heading()-10\n",
    "    tim.setheading(new_move)\n",
    "\n",
    "def clear():\n",
    "    tim.clear()\n",
    "    tim.penup()\n",
    "    tim.home()\n",
    "    tim.pendown()\n",
    "\n",
    "\n",
    "\n",
    "screen.listen()\n",
    "screen.onkey(key=\"w\", fun=move_forwards)\n",
    "screen.onkey(key=\"s\", fun=move_backwards)\n",
    "screen.onkey(key=\"a\", fun=move_left)\n",
    "screen.onkey(key=\"d\", fun=move_right)\n",
    "screen.onkey(key=\"c\", fun=clear)\n",
    "screen.exitonclick()"
   ]
  }
 ],
 "metadata": {
  "kernelspec": {
   "display_name": "Python 3 (ipykernel)",
   "language": "python",
   "name": "python3"
  },
  "language_info": {
   "codemirror_mode": {
    "name": "ipython",
    "version": 3
   },
   "file_extension": ".py",
   "mimetype": "text/x-python",
   "name": "python",
   "nbconvert_exporter": "python",
   "pygments_lexer": "ipython3",
   "version": "3.10.9"
  }
 },
 "nbformat": 4,
 "nbformat_minor": 5
}
